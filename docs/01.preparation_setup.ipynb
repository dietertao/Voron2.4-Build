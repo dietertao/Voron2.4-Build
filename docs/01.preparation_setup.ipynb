{
 "cells": [
  {
   "cell_type": "markdown",
   "metadata": {},
   "source": [
    "# the following are the prepared parts to build Voron2.4 R2 300x300x300mm3 \n",
    "- initial setup (300mmx300mm)\n",
    "- Raspberry Pi 4 + Display\n",
    "- ABS setup (Kexcelled)\n",
    "- Aluprofil: Funssor Misumi HFSB5-2020 Extrusion Rahmen Kit\n",
    "- Gates 2GT Zahnriemen 10mm\n",
    "- Schrauben Set\n",
    "- Gehäusel Panel (Acryl Platte)\n",
    "- Hotend Afterburner: (ASA GF und ABS+ eSUN Rot)\n",
    "- Alu-Heizbett\n",
    "\n",
    "\n"
   ]
  },
  {
   "cell_type": "markdown",
   "metadata": {},
   "source": []
  },
  {
   "cell_type": "code",
   "execution_count": null,
   "metadata": {},
   "outputs": [],
   "source": [
    "# Initial Setup Picture\n",
    " \n",
    "from IPython.display import Image, display\n",
    "\n",
    "# List of image paths\n",
    "image_paths = [\n",
    "    \"../pics/Setup_01.jpg\",\n",
    "    \"../pics/Profil_1.jpg\",\n",
    "    \"../pics/Profil_2.jpg\",\n",
    "    \"../pics/ABS_parts.png\",\n",
    "    \"../pics/Zahnriemen_1.jpg\",\n",
    "    \"../pics/Bette_2.jpg\",\n",
    "    \"../pics/Bette_5.jpg\",\n",
    "    \"../pics/Platte_1.jpg\",\n",
    "\n",
    "    \"../pics/Schraube.png\"\n",
    "]\n",
    "\n",
    "# Display each image\n",
    "for image_path in image_paths:\n",
    "    display(Image(filename=image_path, width=800, height=600))\n",
    "\n"
   ]
  }
 ],
 "metadata": {
  "kernelspec": {
   "display_name": "Python 3",
   "language": "python",
   "name": "python3"
  },
  "language_info": {
   "codemirror_mode": {
    "name": "ipython",
    "version": 3
   },
   "file_extension": ".py",
   "mimetype": "text/x-python",
   "name": "python",
   "nbconvert_exporter": "python",
   "pygments_lexer": "ipython3",
   "version": "3.11.11"
  }
 },
 "nbformat": 4,
 "nbformat_minor": 2
}
