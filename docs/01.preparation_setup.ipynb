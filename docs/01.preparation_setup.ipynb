{
 "cells": [
  {
   "cell_type": "markdown",
   "metadata": {},
   "source": [
    "- initial setup (300mmx300mm)\n",
    "- Raspberry Pi 4 + Display\n",
    "- ABS setup (Kexcelled)\n",
    "- Aluprofil: Funssor Misumi HFSB5-2020 Extrusion Rahmen Kit\n",
    "- Gates 2GT Zahnriemen 10mm\n",
    "- Schrauben Set\n",
    "- Gehäusel Panel (Acryl Platte)\n",
    "- Hotend Afterburner: (ASA GF und ABS+ eSUN Rot)\n",
    "- Alu-Heizbett\n",
    "\n",
    "\n"
   ]
  },
  {
   "cell_type": "markdown",
   "metadata": {},
   "source": []
  },
  {
   "cell_type": "markdown",
   "metadata": {},
   "source": []
  }
 ],
 "metadata": {
  "language_info": {
   "name": "python"
  }
 },
 "nbformat": 4,
 "nbformat_minor": 2
}
